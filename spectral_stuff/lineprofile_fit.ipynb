{
 "cells": [
  {
   "cell_type": "markdown",
   "id": "24e16cb8-8705-43f8-808a-4733d6e07640",
   "metadata": {},
   "source": [
    "# Based on \"Baseline fit\"\n",
    "#### by Jannick Schulze changed by me :-)"
   ]
  },
  {
   "cell_type": "code",
   "execution_count": 4,
   "id": "dbc5fa36-2e70-4174-b263-efbb5f6de700",
   "metadata": {},
   "outputs": [
    {
     "name": "stdout",
     "output_type": "stream",
     "text": [
      "Defaulting to user installation because normal site-packages is not writeable\n",
      "Requirement already satisfied: openpyxl in /usr/lib/python3/dist-packages (3.0.9)\n",
      "Note: you may need to restart the kernel to use updated packages.\n"
     ]
    }
   ],
   "source": [
    "pip install openpyxl\n"
   ]
  },
  {
   "cell_type": "code",
   "execution_count": 5,
   "id": "94160aa2",
   "metadata": {},
   "outputs": [
    {
     "name": "stdout",
     "output_type": "stream",
     "text": [
      "Defaulting to user installation because normal site-packages is not writeable\n",
      "Collecting lmfit\n",
      "  Downloading lmfit-1.2.2-py3-none-any.whl (102 kB)\n",
      "\u001b[2K     \u001b[38;2;114;156;31m━━━━━━━━━━━━━━━━━━━━━━━━━━━━━━━━━━━━━━━\u001b[0m \u001b[32m103.0/103.0 KB\u001b[0m \u001b[31m2.5 MB/s\u001b[0m eta \u001b[36m0:00:00\u001b[0mm eta \u001b[36m0:00:01\u001b[0m\n",
      "\u001b[?25hRequirement already satisfied: numpy>=1.19 in /usr/lib/python3/dist-packages (from lmfit) (1.21.5)\n",
      "Requirement already satisfied: scipy>=1.6 in /usr/lib/python3/dist-packages (from lmfit) (1.8.0)\n",
      "Collecting uncertainties>=3.1.4\n",
      "  Downloading uncertainties-3.1.7-py2.py3-none-any.whl (98 kB)\n",
      "\u001b[2K     \u001b[38;2;114;156;31m━━━━━━━━━━━━━━━━━━━━━━━━━━━━━━━━━━━━━━━━\u001b[0m \u001b[32m98.4/98.4 KB\u001b[0m \u001b[31m5.3 MB/s\u001b[0m eta \u001b[36m0:00:00\u001b[0m\n",
      "\u001b[?25hCollecting asteval>=0.9.28\n",
      "  Downloading asteval-0.9.31-py3-none-any.whl (20 kB)\n",
      "Requirement already satisfied: future in /usr/lib/python3/dist-packages (from uncertainties>=3.1.4->lmfit) (0.18.2)\n",
      "Installing collected packages: uncertainties, asteval, lmfit\n",
      "Successfully installed asteval-0.9.31 lmfit-1.2.2 uncertainties-3.1.7\n",
      "Note: you may need to restart the kernel to use updated packages.\n"
     ]
    }
   ],
   "source": [
    "pip install lmfit\n"
   ]
  },
  {
   "cell_type": "code",
   "execution_count": 1,
   "id": "4f2ddb29-aa46-4c01-8314-a22cc85a6cbe",
   "metadata": {},
   "outputs": [],
   "source": [
    "# import required modules:\n",
    "import matplotlib.pyplot as plt # to make plots\n",
    "import numpy as np # for array manipulation and math functions\n",
    "import scipy.signal as scs # for signal analysis\n",
    "import glob # for finding files\n",
    "import os as os\n",
    "import warnings\n",
    "# import fit models from the lmfit package\n",
    "from lmfit.models import ExponentialModel, GaussianModel, PolynomialModel\n",
    "\n"
   ]
  },
  {
   "cell_type": "markdown",
   "id": "5185476a-7986-4853-a4ad-731dfd8a54ec",
   "metadata": {},
   "source": [
    "#### Settings"
   ]
  },
  {
   "cell_type": "code",
   "execution_count": 2,
   "id": "0ebdff7a-90aa-44bf-b91f-924b08831fcc",
   "metadata": {},
   "outputs": [],
   "source": [
    "# insert the path to your Data here:\n",
    "datapath = \"/users/jburke/ebhis_scripts/spectral_stuff\" #directory path where the data is stored\n",
    "\n",
    "# order of the polynom to use to fit background:\n",
    "deg_polynom = 7 # up to 7\n",
    "\n",
    "# max. number of gauss peaks to fit:\n",
    "N_peaks = 12\n",
    "add_gaussians = 6\n",
    "\n",
    "# number of edge bins to ignore:\n",
    "N_edge_bins = 25\n"
   ]
  },
  {
   "cell_type": "markdown",
   "id": "4c25263c-361a-44bf-9dcd-bc9126a4dae7",
   "metadata": {
    "tags": []
   },
   "source": [
    "#### load data and plot data"
   ]
  },
  {
   "cell_type": "code",
   "execution_count": 3,
   "id": "8dbb4431-ae35-4db6-8010-1d4348b44d17",
   "metadata": {
    "tags": []
   },
   "outputs": [
    {
     "name": "stdout",
     "output_type": "stream",
     "text": [
      "spectrum_NGC2403.csv\n"
     ]
    },
    {
     "data": {
      "text/plain": [
       "[<matplotlib.lines.Line2D at 0x7f51880af9d0>]"
      ]
     },
     "execution_count": 3,
     "metadata": {},
     "output_type": "execute_result"
    },
    {
     "data": {
      "image/png": "[encoded data removed]",
      "text/plain": [
       "<Figure size 432x288 with 1 Axes>"
      ]
     },
     "metadata": {
      "needs_background": "light"
     },
     "output_type": "display_data"
    }
   ],
   "source": [
    "# load data:\n",
    "\n",
    "pathlist = glob.glob(\"spectrum_NGC2403.csv\") \n",
    "\n",
    "path = pathlist[0]\n",
    "print(path)\n",
    "\n",
    "#if survey == 'HIsurvey':\n",
    "#   x, y = read_HIsurvey_file(path)\n",
    "#elif survey == 'sto2'or 'srtbn':\n",
    "dat = np.loadtxt(path, delimiter=',', skiprows=1)\n",
    "    # cut the edge bins, as they are unreliable\n",
    "\n",
    "dat_use = np.asarray(dat[428:680]) #this is the limit in channel number. It applies to all y-values as well\n",
    "\n",
    "#dat_use = np.asarray(dat[130:480]) #OH\n",
    "#dat_use = np.asarray(dat[0:])\n",
    "\n",
    "    # x: v_LSR\n",
    "x = dat_use[:, 0]\n",
    "\n",
    "    # y: T_A\n",
    "y = dat_use[:, 1]\n",
    "\n",
    "    # data for the background: In this case I have the impression that the annulus is too tight. I can see the galaxy!\n",
    "    \n",
    "y_back = dat_use[:, 2]\n",
    "\n",
    "#else:\n",
    "#    raise ValueError('Unknown survey name. Please check whether the datapath and spelling are correct.')\n",
    "\n",
    "\n",
    "\n",
    "# plot the part of the spectrum we are actually using:\n",
    "plt.plot(x,y-y_back)"
   ]
  },
  {
   "cell_type": "markdown",
   "id": "d6b4d154-0059-4843-8966-7e249b346d57",
   "metadata": {},
   "source": [
    "#### Background/Baseline fit"
   ]
  },
  {
   "cell_type": "code",
   "execution_count": 4,
   "id": "17e34ee9-5f8c-450b-bd7f-13307daebc6c",
   "metadata": {},
   "outputs": [
    {
     "data": {
      "text/plain": [
       "[<matplotlib.lines.Line2D at 0x7f5187de4460>]"
      ]
     },
     "execution_count": 4,
     "metadata": {},
     "output_type": "execute_result"
    },
    {
     "data": {
      "image/png": "[encoded data removed]",
      "text/plain": [
       "<Figure size 432x288 with 1 Axes>"
      ]
     },
     "metadata": {
      "needs_background": "light"
     },
     "output_type": "display_data"
    }
   ],
   "source": [
    "# vLSR range in which we expect our signal of the Milky Way confusion\n",
    "signal_range = [-48,30]  # this is a sensitive range!!!!\n",
    "\n",
    "def coarseBackgroundModel(x,y,deg,signal_range):\n",
    "    \"\"\"\n",
    "    coarse fit of a polynomial model to the entire data for a first background reduction:\n",
    "    \n",
    "    x: v_LSR  \n",
    "    y: T_A\n",
    "    deg: degree of the polynom to fit to the data\n",
    "    \n",
    "    \"\"\"\n",
    "    # set up polynomial model\n",
    "    poly_mod = PolynomialModel(deg, prefix='p1_')\n",
    "    \n",
    "    mask= ((x<signal_range[0]) | (x>signal_range[1]))\n",
    "    x_ = x[mask]\n",
    "    y_ = y[mask]\n",
    "    \n",
    "    # let lmfit guess the parameter values:\n",
    "    p_bg = poly_mod.guess(y_, x=x_)\n",
    "    \n",
    "    # set up our background model (only polynomial here):\n",
    "    mod_bg = poly_mod\n",
    "    \n",
    "    # initialize the model with the guessed parameters:\n",
    "    init_bg = mod_bg.eval(p_bg, x=x_)\n",
    "    \n",
    "    # fit the model:\n",
    "    out_bg = mod_bg.fit(y_, p_bg, x=x_)\n",
    "    \n",
    "    # return results:\n",
    "    return p_bg, out_bg, mod_bg\n",
    "\n",
    "# now do it:\n",
    "p_bg, out_bg, mod_bg = coarseBackgroundModel(x,y-y_back,deg_polynom,signal_range)\n",
    "\n",
    "background = mod_bg.eval(p_bg,x=x)\n",
    "\n",
    "# and plot the result\n",
    "#plt.plot(x,y)\n",
    "plt.plot(x,y-y_back, label='MALS')\n",
    "plt.plot(x,background)\n",
    "\n"
   ]
  },
  {
   "cell_type": "code",
   "execution_count": 5,
   "id": "28f8cd45-dd83-4f1f-bcda-5893e9a21592",
   "metadata": {},
   "outputs": [
    {
     "data": {
      "image/png": "[encoded data removed]",
      "text/plain": [
       "<Figure size 432x288 with 1 Axes>"
      ]
     },
     "metadata": {
      "needs_background": "light"
     },
     "output_type": "display_data"
    }
   ],
   "source": [
    "plt.plot(x,background, label='fit')\n",
    "\n",
    "y_HI_scale = y-y_back\n",
    "plt.plot(x,y_HI_scale, label='data')\n",
    "plt.legend(loc=\"lower right\")\n",
    "plt.title('linefit')\n",
    "plt.xlabel('v$_\\mathrm{LSR} [\\mathrm{km\\,s^{-1}}]$')\n",
    "plt.ylabel('brightness temp [K]]')\n",
    "plt.ylim(-2., 10.)\n",
    "plt.show()"
   ]
  }
 ],
 "metadata": {
  "kernelspec": {
   "display_name": "Python 3 (ipykernel)",
   "language": "python",
   "name": "python3"
  },
  "language_info": {
   "codemirror_mode": {
    "name": "ipython",
    "version": 3
   },
   "file_extension": ".py",
   "mimetype": "text/x-python",
   "name": "python",
   "nbconvert_exporter": "python",
   "pygments_lexer": "ipython3",
   "version": "3.10.12"
  }
 },
 "nbformat": 4,
 "nbformat_minor": 5
}
